{
 "cells": [
  {
   "cell_type": "code",
   "execution_count": 1,
   "id": "initial_id",
   "metadata": {
    "collapsed": true,
    "ExecuteTime": {
     "end_time": "2024-10-10T09:16:17.217195Z",
     "start_time": "2024-10-10T09:16:17.206116Z"
    }
   },
   "outputs": [
    {
     "data": {
      "text/plain": "True"
     },
     "execution_count": 1,
     "metadata": {},
     "output_type": "execute_result"
    }
   ],
   "source": [
    "import dotenv\n",
    "\n",
    "dotenv.load_dotenv()\n"
   ]
  },
  {
   "cell_type": "code",
   "outputs": [],
   "source": [
    "from db_models import Session, Topic\n",
    "\n",
    "session = Session()\n",
    "#topic_list = [\"Machine learning\", \"Artificial intelligence\", \"Experimental physics\", \"Applied physics\", \"Statistics\", \"Empirical Research\", \"Nutrition\", \"Radio software\", \"Inversive geometry\", \"Business ethics\", \"Trade war\", \"Financial transaction\", \"Browser engine\", \"Mining engineering\", \"Wind turbine\", \"Inversive geometry\", \"Oil platform\", \"Neurophysiotherapy\", \"Word Embedding\", \"Embedding\", \"Anti-pattern\", \"Software design pattern\", \"Design pattern\", \"Software architecture\"]\n",
    "\n",
    "topic_list = [\"Machine learning\", \"Artificial intelligence\", \"Experimental physics\", \"Applied physics\", \"Statistics\", \"Empirical Research\", \"Nutrition\", \"Radio software\", \"Inversive geometry\", \"Business ethics\", \"Trade war\", \"Financial transaction\", \"Browser engine\", \"Mining engineering\", \"Wind turbine\", \"Inversive geometry\", \"Oil platform\", \"Neurophysiotherapy\", \"Word Embedding\", \"Embedding\", \"Anti-pattern\", \"Software design pattern\", \"Design pattern\", \"Software architecture\", \"Environmental law\"]\n",
    "topics = session.query(Topic).filter(Topic.topic.in_(topic_list)).all()"
   ],
   "metadata": {
    "collapsed": false,
    "ExecuteTime": {
     "end_time": "2024-10-10T09:16:17.349890Z",
     "start_time": "2024-10-10T09:16:17.215606Z"
    }
   },
   "id": "9c15ff99e113794",
   "execution_count": 2
  },
  {
   "cell_type": "code",
   "outputs": [
    {
     "data": {
      "text/plain": "[<Topic(id=233956, topic='Anti-pattern')>,\n <Topic(id=2641938, topic='Applied physics')>,\n <Topic(id=1164, topic='Artificial intelligence')>,\n <Topic(id=46001, topic='Browser engine')>,\n <Topic(id=4770, topic='Business ethics')>,\n <Topic(id=8745, topic='Design pattern')>,\n <Topic(id=52119, topic='Embedding')>,\n <Topic(id=10091, topic='Environmental law')>,\n <Topic(id=685311, topic='Experimental physics')>,\n <Topic(id=697301, topic='Financial transaction')>,\n <Topic(id=295844, topic='Inversive geometry')>,\n <Topic(id=233488, topic='Machine learning')>,\n <Topic(id=488361, topic='Mining engineering')>,\n <Topic(id=41429912, topic='Neurophysiotherapy')>,\n <Topic(id=21525, topic='Nutrition')>,\n <Topic(id=163806, topic='Oil platform')>,\n <Topic(id=7869937, topic='Radio software')>,\n <Topic(id=48364, topic='Software architecture')>,\n <Topic(id=164952, topic='Software design pattern')>,\n <Topic(id=26685, topic='Statistics')>,\n <Topic(id=441392, topic='Trade war')>,\n <Topic(id=20541773, topic='Wind turbine')>]"
     },
     "execution_count": 3,
     "metadata": {},
     "output_type": "execute_result"
    }
   ],
   "source": [
    "topics"
   ],
   "metadata": {
    "collapsed": false,
    "ExecuteTime": {
     "end_time": "2024-10-10T09:16:17.352265Z",
     "start_time": "2024-10-10T09:16:17.350527Z"
    }
   },
   "id": "7986a82ee50970e",
   "execution_count": 3
  },
  {
   "cell_type": "code",
   "outputs": [],
   "source": [
    "import topic_mapper\n",
    "\n",
    "\n",
    "vector_store = topic_mapper.VectorStore(topics=topics)"
   ],
   "metadata": {
    "collapsed": false,
    "ExecuteTime": {
     "end_time": "2024-10-10T09:16:18.374670Z",
     "start_time": "2024-10-10T09:16:17.352668Z"
    }
   },
   "id": "554164c90e98e86e",
   "execution_count": 4
  },
  {
   "cell_type": "code",
   "outputs": [],
   "source": [
    "vector_store.save_2d_projection()"
   ],
   "metadata": {
    "collapsed": false,
    "ExecuteTime": {
     "end_time": "2024-10-10T09:16:18.496991Z",
     "start_time": "2024-10-10T09:16:18.381244Z"
    }
   },
   "id": "be281f86486555ce",
   "execution_count": 5
  },
  {
   "cell_type": "code",
   "outputs": [],
   "source": [
    "vector_store.save_2d_projection_csv()"
   ],
   "metadata": {
    "collapsed": false,
    "ExecuteTime": {
     "end_time": "2024-10-10T09:16:18.544760Z",
     "start_time": "2024-10-10T09:16:18.503505Z"
    }
   },
   "id": "3545027bf42f80d0",
   "execution_count": 6
  }
 ],
 "metadata": {
  "kernelspec": {
   "display_name": "Python 3",
   "language": "python",
   "name": "python3"
  },
  "language_info": {
   "codemirror_mode": {
    "name": "ipython",
    "version": 2
   },
   "file_extension": ".py",
   "mimetype": "text/x-python",
   "name": "python",
   "nbconvert_exporter": "python",
   "pygments_lexer": "ipython2",
   "version": "2.7.6"
  }
 },
 "nbformat": 4,
 "nbformat_minor": 5
}
