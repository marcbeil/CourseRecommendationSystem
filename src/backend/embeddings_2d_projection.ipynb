{
 "cells": [
  {
   "cell_type": "code",
   "execution_count": 1,
   "id": "initial_id",
   "metadata": {
    "collapsed": true,
    "ExecuteTime": {
     "end_time": "2024-10-31T11:12:42.866785Z",
     "start_time": "2024-10-31T11:12:42.851675Z"
    }
   },
   "outputs": [
    {
     "data": {
      "text/plain": "True"
     },
     "execution_count": 1,
     "metadata": {},
     "output_type": "execute_result"
    }
   ],
   "source": [
    "import dotenv\n",
    "\n",
    "dotenv.load_dotenv()\n"
   ]
  },
  {
   "cell_type": "code",
   "outputs": [],
   "source": [
    "from db_models import Session, Topic\n",
    "\n",
    "session = Session()\n",
    "#topic_list = [\"Machine learning\", \"Artificial intelligence\", \"Experimental physics\", \"Applied physics\", \"Statistics\", \"Empirical Research\", \"Nutrition\", \"Radio software\", \"Inversive geometry\", \"Business ethics\", \"Trade war\", \"Financial transaction\", \"Browser engine\", \"Mining engineering\", \"Wind turbine\", \"Inversive geometry\", \"Oil platform\", \"Neurophysiotherapy\", \"Word Embedding\", \"Embedding\", \"Anti-pattern\", \"Software design pattern\", \"Design pattern\", \"Software architecture\"]\n",
    "\n",
    "topic_list = [\"Machine learning\", \"Artificial intelligence\", \"Experimental physics\", \"Applied physics\", \"Statistics\", \"Empirical Research\", \"Nutrition\", \"Radio software\", \"Inversive geometry\", \"Business ethics\", \"Trade war\", \"Financial transaction\", \"Browser engine\", \"Mining engineering\", \"Wind turbine\", \"Inversive geometry\", \"Oil platform\", \"Neurophysiotherapy\", \"Word Embedding\", \"Embedding\", \"Anti-pattern\", \"Software design pattern\", \"Design pattern\", \"Software architecture\", \"Environmental law\"]\n",
    "topic_list = ['Cloud computing', 'Cloud computing architecture', 'Cloud computing security', 'Cloud-native computing', 'Cloud research', 'Cloud storage', 'IBM Cloud', 'Cloud database', 'Google Cloud', 'Cloud gaming', 'Green computing', 'Distributed computing', 'Cognitive computing', 'Serverless computing', 'Data-intensive computing', 'Computer cluster', 'Decentralized computing', 'Mobile computing', 'Ubiquitous computing', 'Quantum computing', 'Cloud physics', 'Reconfigurable computing', 'Interactive computing', 'High-performance computing', 'Organic computing', 'Cumulus cloud', 'Infrastructure as a service', 'Software-defined data center', 'Real-time computing', 'Services computing', 'Confidential computing', 'Computer network', 'Supercomputer', 'DNA computing', 'CLOUD Act', 'Computer data storage', 'Hyperdimensional computing', 'Physical computing', 'Concurrent computing', 'Superconducting computing', 'Computer cooling', 'Cloud', 'Data as a service', 'Software as a service', 'Human-centered computing', 'Social computing', 'E-Science', 'Computer performance', 'Soft computing', 'Virtualization', 'Virtual workplace', 'Optical computing', 'Grid computing', 'Spatial computing', 'Computational resource', 'Incremental computing', 'Platform as a service', 'European Cloud Partnership', 'High Productivity Computing Systems', 'Natural computing', 'Computer accessibility', 'Advanced Computing Environment', 'Visual computing', 'Big data', 'Network virtualization', 'Data center', 'Computer-supported collaboration', 'Supercomputer operating system', 'Computer science', 'Consumerization of information technology', 'Data technology', 'Computational intelligence', 'Recovery-oriented computing', 'Computer lab', 'IBM Consulting', 'Parallel computing', 'Bio-inspired computing', 'Machine learning', 'Cognitive computer', 'Data storage', 'Computon', 'Computer architecture', 'Virtual machine', 'Data lake', 'Datacomputer', 'Computing', 'Information technology', 'Trusted Computing', 'Internet of things', 'Superconducting quantum computing', 'Mobile technology', 'Computer configuration', 'Data economy', 'Computer performance by orders of magnitude', 'E-government', 'Computational sustainability', 'Desktop computer', 'Biological computing', 'Data center services', 'Infrastructure as code']\n",
    "\n",
    "topics = session.query(Topic).filter(Topic.topic.in_(topic_list)).all()"
   ],
   "metadata": {
    "collapsed": false,
    "ExecuteTime": {
     "end_time": "2024-10-31T11:12:43.040279Z",
     "start_time": "2024-10-31T11:12:42.860614Z"
    }
   },
   "id": "9c15ff99e113794",
   "execution_count": 2
  },
  {
   "cell_type": "code",
   "outputs": [
    {
     "data": {
      "text/plain": "[<Topic(id=924635, topic='Advanced Computing Environment')>,\n <Topic(id=27051151, topic='Big data')>,\n <Topic(id=361157, topic='Bio-inspired computing')>,\n <Topic(id=10203313, topic='Biological computing')>,\n <Topic(id=56704571, topic='CLOUD Act')>,\n <Topic(id=47515, topic='Cloud')>,\n <Topic(id=19541494, topic='Cloud computing')>,\n <Topic(id=35954361, topic='Cloud computing architecture')>,\n <Topic(id=25619904, topic='Cloud computing security')>,\n <Topic(id=33354721, topic='Cloud database')>,\n <Topic(id=29104117, topic='Cloud gaming')>,\n <Topic(id=731795, topic='Cloud physics')>,\n <Topic(id=43204217, topic='Cloud research')>,\n <Topic(id=11295734, topic='Cloud storage')>,\n <Topic(id=61633401, topic='Cloud-native computing')>,\n <Topic(id=39177819, topic='Cognitive computer')>,\n <Topic(id=42581062, topic='Cognitive computing')>,\n <Topic(id=1563306, topic='Computational intelligence')>,\n <Topic(id=4628222, topic='Computational resource')>,\n <Topic(id=22721456, topic='Computational sustainability')>,\n <Topic(id=411964, topic='Computer accessibility')>,\n <Topic(id=25652303, topic='Computer architecture')>,\n <Topic(id=18949896, topic='Computer cluster')>,\n <Topic(id=3758637, topic='Computer configuration')>,\n <Topic(id=798370, topic='Computer cooling')>,\n <Topic(id=5300, topic='Computer data storage')>,\n <Topic(id=361909, topic='Computer lab')>,\n <Topic(id=4122592, topic='Computer network')>,\n <Topic(id=9007528, topic='Computer performance')>,\n <Topic(id=25671650, topic='Computer performance by orders of magnitude')>,\n <Topic(id=5323, topic='Computer science')>,\n <Topic(id=2028143, topic='Computer-supported collaboration')>,\n <Topic(id=5213, topic='Computing')>,\n <Topic(id=5483516, topic='Computon')>,\n <Topic(id=2581605, topic='Concurrent computing')>,\n <Topic(id=73306469, topic='Confidential computing')>,\n <Topic(id=18132786, topic='Consumerization of information technology')>,\n <Topic(id=47532, topic='Cumulus cloud')>,\n <Topic(id=253418, topic='DNA computing')>,\n <Topic(id=27654548, topic='Data as a service')>,\n <Topic(id=579730, topic='Data center')>,\n <Topic(id=33996417, topic='Data center services')>,\n <Topic(id=58206387, topic='Data economy')>,\n <Topic(id=46626475, topic='Data lake')>,\n <Topic(id=28174, topic='Data storage')>,\n <Topic(id=60263786, topic='Data technology')>,\n <Topic(id=31107479, topic='Data-intensive computing')>,\n <Topic(id=62678819, topic='Datacomputer')>,\n <Topic(id=5694182, topic='Decentralized computing')>,\n <Topic(id=52742, topic='Desktop computer')>,\n <Topic(id=8501, topic='Distributed computing')>,\n <Topic(id=1001976, topic='E-Science')>,\n <Topic(id=196649, topic='E-government')>,\n <Topic(id=46269351, topic='European Cloud Partnership')>,\n <Topic(id=31790512, topic='Google Cloud')>,\n <Topic(id=1661475, topic='Green computing')>,\n <Topic(id=49373, topic='Grid computing')>,\n <Topic(id=14410179, topic='High Productivity Computing Systems')>,\n <Topic(id=832527, topic='High-performance computing')>,\n <Topic(id=1487249, topic='Human-centered computing')>,\n <Topic(id=73654860, topic='Hyperdimensional computing')>,\n <Topic(id=61527139, topic='IBM Cloud')>,\n <Topic(id=1343794, topic='IBM Consulting')>,\n <Topic(id=20276016, topic='Incremental computing')>,\n <Topic(id=36674345, topic='Information technology')>,\n <Topic(id=12103809, topic='Infrastructure as a service')>,\n <Topic(id=49263763, topic='Infrastructure as code')>,\n <Topic(id=1623251, topic='Interactive computing')>,\n <Topic(id=12057519, topic='Internet of things')>,\n <Topic(id=233488, topic='Machine learning')>,\n <Topic(id=657187, topic='Mobile computing')>,\n <Topic(id=25208936, topic='Mobile technology')>,\n <Topic(id=27075922, topic='Natural computing')>,\n <Topic(id=13588444, topic='Network virtualization')>,\n <Topic(id=2878626, topic='Optical computing')>,\n <Topic(id=1024775, topic='Organic computing')>,\n <Topic(id=145162, topic='Parallel computing')>,\n <Topic(id=2948657, topic='Physical computing')>,\n <Topic(id=16986024, topic='Platform as a service')>,\n <Topic(id=25220, topic='Quantum computing')>,\n <Topic(id=25767, topic='Real-time computing')>,\n <Topic(id=188371, topic='Reconfigurable computing')>,\n <Topic(id=654111, topic='Recovery-oriented computing')>,\n <Topic(id=51040757, topic='Serverless computing')>,\n <Topic(id=1820849, topic='Services computing')>,\n <Topic(id=1416993, topic='Social computing')>,\n <Topic(id=66887194, topic='Soft computing')>,\n <Topic(id=2262333, topic='Software as a service')>,\n <Topic(id=39799017, topic='Software-defined data center')>,\n <Topic(id=62638470, topic='Spatial computing')>,\n <Topic(id=37153, topic='Supercomputer')>,\n <Topic(id=34886007, topic='Supercomputer operating system')>,\n <Topic(id=42266481, topic='Superconducting computing')>,\n <Topic(id=1730328, topic='Superconducting quantum computing')>,\n <Topic(id=58608, topic='Trusted Computing')>,\n <Topic(id=31871, topic='Ubiquitous computing')>,\n <Topic(id=32353, topic='Virtual machine')>,\n <Topic(id=5722785, topic='Virtual workplace')>,\n <Topic(id=18311356, topic='Virtualization')>,\n <Topic(id=45350085, topic='Visual computing')>]"
     },
     "execution_count": 3,
     "metadata": {},
     "output_type": "execute_result"
    }
   ],
   "source": [
    "topics"
   ],
   "metadata": {
    "collapsed": false,
    "ExecuteTime": {
     "end_time": "2024-10-31T11:12:43.043974Z",
     "start_time": "2024-10-31T11:12:43.041693Z"
    }
   },
   "id": "7986a82ee50970e",
   "execution_count": 3
  },
  {
   "cell_type": "code",
   "outputs": [],
   "source": [
    "import topic_mapper\n",
    "\n",
    "\n",
    "vector_store = topic_mapper.VectorStore(topics=topics)"
   ],
   "metadata": {
    "collapsed": false,
    "ExecuteTime": {
     "end_time": "2024-10-31T11:12:44.014184Z",
     "start_time": "2024-10-31T11:12:43.044063Z"
    }
   },
   "id": "554164c90e98e86e",
   "execution_count": 4
  },
  {
   "cell_type": "code",
   "outputs": [],
   "source": [
    "vector_store.save_2d_projection()"
   ],
   "metadata": {
    "collapsed": false,
    "ExecuteTime": {
     "end_time": "2024-10-31T11:12:44.315223Z",
     "start_time": "2024-10-31T11:12:44.037619Z"
    }
   },
   "id": "be281f86486555ce",
   "execution_count": 5
  },
  {
   "cell_type": "code",
   "outputs": [],
   "source": [
    "vector_store.save_2d_projection_csv()"
   ],
   "metadata": {
    "collapsed": false,
    "ExecuteTime": {
     "end_time": "2024-10-31T11:12:44.357629Z",
     "start_time": "2024-10-31T11:12:44.347371Z"
    }
   },
   "id": "3545027bf42f80d0",
   "execution_count": 6
  }
 ],
 "metadata": {
  "kernelspec": {
   "display_name": "Python 3",
   "language": "python",
   "name": "python3"
  },
  "language_info": {
   "codemirror_mode": {
    "name": "ipython",
    "version": 2
   },
   "file_extension": ".py",
   "mimetype": "text/x-python",
   "name": "python",
   "nbconvert_exporter": "python",
   "pygments_lexer": "ipython2",
   "version": "2.7.6"
  }
 },
 "nbformat": 4,
 "nbformat_minor": 5
}
