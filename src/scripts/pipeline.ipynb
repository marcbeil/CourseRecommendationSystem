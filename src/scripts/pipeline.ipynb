{
 "cells": [
  {
   "cell_type": "code",
   "execution_count": null,
   "id": "initial_id",
   "metadata": {
    "collapsed": true
   },
   "outputs": [],
   "source": [
    "import os\n",
    "\n",
    "from course_recommender.extraction_schema import StudentPreferences\n",
    "from course_recommender import extraction\n",
    "\n",
    "EXAMPLE_INPUT_ENGINEERING = \"I am in my 7th semester studying Mechanical Engineering at RWTH Aachen University. I have taken elective courses in Thermodynamics, Robotics, and Renewable Energy Systems. Robotics was the most fascinating course for me, and I plan to focus on this area for my master's degree. Additionally, I have a keen interest in Automation and Control Systems, especially in the context of Smart Manufacturing and IoT. However, I am not very enthusiastic about subjects that delve deeply into theoretical physics or advanced calculus. I prefer courses that involve hands-on projects and the application of engineering principles to real-world problems.\"\n",
    "\n",
    "EXAMPLE_INPUT_MED = \"I am currently in my 5th semester studying Medicine at the University of Munich. So far, I have completed elective courses in Human Anatomy, Pharmacology, and Medical Ethics. My favorite course was Pharmacology, and I am eager to pursue a specialization in this area for my postgraduate studies. I am also very interested in Neuroscience, particularly in Neurodegenerative Diseases and their treatments. On the other hand, I am not very fond of courses that focus heavily on molecular biology or genetics. I enjoy practical courses that involve patient interaction and clinical practices.\"\n",
    "\n",
    "EXAMPLE_INPUT_CS = \"Im a student in my 6th semester currently studying Computer Science at TUM. I already did the following electory courses: ERDB, IT Securiy and Business Analytics and Machine Learning. I really liked Machine Learning and I want to specialize in this subject for my masters. Im also interested in System Design especially in Microservice and Cloud Architecture. I don't like low level programming such as C. I like high level languages such as Java and Python\"\n",
    "\n",
    "student_preferences: StudentPreferences = extraction.extract_student_preferences(EXAMPLE_INPUT_MED)\n",
    "\n",
    "print(student_preferences)"
   ]
  },
  {
   "cell_type": "code",
   "outputs": [],
   "source": [
    "import sqlite3\n",
    "\n",
    "# Extract school\n",
    "module_con = sqlite3.connect(os.getenv(\"DB_PATH\"))\n",
    "if student_preferences.school:\n",
    "    school_id = module_con.execute(\"SELECT org_id FROM organisations WHERE name = ? and org_type = 'school'\",\n",
    "                                   (student_preferences.school,)).fetchone()[0]\n",
    "else:\n",
    "    school_id = None\n",
    "    \n",
    "print(f\"{school_id}: {student_preferences.school}\")"
   ],
   "metadata": {
    "collapsed": false
   },
   "id": "16de91bcdc0601f1",
   "execution_count": null
  },
  {
   "cell_type": "code",
   "outputs": [],
   "source": [
    "from course_recommender.topic_mapper import vector_similarity_search, build_index\n",
    "\n",
    "index_with_topics = build_index(school_id=school_id)\n",
    "topic_mappings = []\n",
    "for topic in student_preferences.topics_of_interest:\n",
    "    topics = vector_similarity_search(index_with_topics=index_with_topics, topic_str=topic, k=5)\n",
    "    topic_mappings += topics\n",
    "\n",
    "print(topic_mappings)"
   ],
   "metadata": {
    "collapsed": false
   },
   "id": "cbdf5523a9ecb6b1",
   "execution_count": null
  },
  {
   "cell_type": "code",
   "outputs": [],
   "source": [
    "topic_ids = [topic_id for topic_id, _ in topic_mappings]\n",
    "cursor = module_con.cursor()\n",
    "\n",
    "# Generate a placeholder string for the IN clause\n",
    "placeholders = ', '.join(['?'] * len(topic_ids))\n",
    "\n",
    "# Use the placeholders in the query\n",
    "query = f\"SELECT m.module_id, m.name, count(m.org_id) as c FROM modules m, module_topic_mappings mtm WHERE m.module_id = mtm.module_id and mtm.topic_id IN ({placeholders}) group by m.module_id, m.name order by c desc LIMIT 10\"\n",
    "\n",
    "# Execute the query with the topic_ids as parameters\n",
    "cursor.execute(query, topic_ids).fetchall()\n"
   ],
   "metadata": {
    "collapsed": false
   },
   "id": "e5ac52e80948e01a",
   "execution_count": null
  },
  {
   "cell_type": "code",
   "outputs": [],
   "source": [],
   "metadata": {
    "collapsed": false
   },
   "id": "724ca9249bd1ecb2"
  }
 ],
 "metadata": {
  "kernelspec": {
   "display_name": "Python 3",
   "language": "python",
   "name": "python3"
  },
  "language_info": {
   "codemirror_mode": {
    "name": "ipython",
    "version": 2
   },
   "file_extension": ".py",
   "mimetype": "text/x-python",
   "name": "python",
   "nbconvert_exporter": "python",
   "pygments_lexer": "ipython2",
   "version": "2.7.6"
  }
 },
 "nbformat": 4,
 "nbformat_minor": 5
}
